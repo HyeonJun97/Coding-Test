{
 "cells": [
  {
   "cell_type": "code",
   "execution_count": null,
   "metadata": {},
   "outputs": [],
   "source": [
    "def solution(begin, end):\n",
    "    answer = []\n",
    "\n",
    "    for i in range(begin, end+1):\n",
    "        if i == 1:\n",
    "            answer.append(0)\n",
    "            continue\n",
    "            \n",
    "        num = 1\n",
    "        \n",
    "        for ans in range(2, (int(i**0.5))+1):  ## time out 주의\n",
    "            if i % ans == 0 and i // ans <= 10000000:\n",
    "                num = (i // ans)\n",
    "                break\n",
    "                \n",
    "        answer.append(num)\n",
    "\n",
    "    return answer"
   ]
  }
 ],
 "metadata": {
  "kernelspec": {
   "display_name": "Python 3",
   "language": "python",
   "name": "python3"
  },
  "language_info": {
   "codemirror_mode": {
    "name": "ipython",
    "version": 3
   },
   "file_extension": ".py",
   "mimetype": "text/x-python",
   "name": "python",
   "nbconvert_exporter": "python",
   "pygments_lexer": "ipython3",
   "version": "3.8.5"
  }
 },
 "nbformat": 4,
 "nbformat_minor": 4
}
