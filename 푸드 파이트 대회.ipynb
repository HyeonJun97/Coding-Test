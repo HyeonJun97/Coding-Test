{
 "cells": [
  {
   "cell_type": "code",
   "execution_count": null,
   "id": "39df9c76",
   "metadata": {},
   "outputs": [],
   "source": [
    "def solution(food):\n",
    "    answer = ''\n",
    "    c1 = ''\n",
    "    c2 = ''\n",
    "\n",
    "    for idx, fd in enumerate(food):\n",
    "        if idx == 0:\n",
    "            pass\n",
    "        \n",
    "        for i in range(food[idx] // 2):\n",
    "            c1 = (c1 + str(idx))\n",
    "            c2 = (str(idx) + c2)\n",
    "        \n",
    "        if idx == len(food)-1:\n",
    "            c1 += '0'\n",
    "            answer = c1 + c2\n",
    "        \n",
    "    return answer"
   ]
  }
 ],
 "metadata": {
  "kernelspec": {
   "display_name": "Python 3 (ipykernel)",
   "language": "python",
   "name": "python3"
  },
  "language_info": {
   "codemirror_mode": {
    "name": "ipython",
    "version": 3
   },
   "file_extension": ".py",
   "mimetype": "text/x-python",
   "name": "python",
   "nbconvert_exporter": "python",
   "pygments_lexer": "ipython3",
   "version": "3.9.13"
  }
 },
 "nbformat": 4,
 "nbformat_minor": 5
}
