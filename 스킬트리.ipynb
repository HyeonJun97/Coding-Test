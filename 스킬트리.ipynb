{
 "cells": [
  {
   "cell_type": "code",
   "execution_count": null,
   "metadata": {},
   "outputs": [],
   "source": [
    "from collections import deque\n",
    "\n",
    "def solution(skill, skill_trees):\n",
    "    answer = 0\n",
    "    \n",
    "    for tree in skill_trees:  # skill_trees 1~20\n",
    "        check = True\n",
    "        q = deque(skill)\n",
    "        for sk in tree:\n",
    "            if sk in q:\n",
    "                if sk == q[0]:\n",
    "                    q.popleft()\n",
    "                else:\n",
    "                    check = False\n",
    "                    break\n",
    "        \n",
    "        if check == True:\n",
    "            answer += 1\n",
    "    return answer"
   ]
  }
 ],
 "metadata": {
  "kernelspec": {
   "display_name": "Python 3",
   "language": "python",
   "name": "python3"
  },
  "language_info": {
   "codemirror_mode": {
    "name": "ipython",
    "version": 3
   },
   "file_extension": ".py",
   "mimetype": "text/x-python",
   "name": "python",
   "nbconvert_exporter": "python",
   "pygments_lexer": "ipython3",
   "version": "3.8.5"
  }
 },
 "nbformat": 4,
 "nbformat_minor": 4
}
