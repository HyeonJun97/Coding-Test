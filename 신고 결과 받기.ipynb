{
 "cells": [
  {
   "cell_type": "code",
   "execution_count": null,
   "metadata": {},
   "outputs": [],
   "source": [
    "def solution(id_list, report, k): # 2 <= id_list <= 1000, 1<= report <= 200000\n",
    "    data = []\n",
    "    repo = {}\n",
    "    repo_user = {}\n",
    "    answer_dict = {}\n",
    "    \n",
    "    report = list(set(report))\n",
    "    \n",
    "    for rep in report: #(신고당한사람, 신고자)\n",
    "        user, user_report = rep.split()\n",
    "        data.append([user_report, user])\n",
    "    \n",
    "    for ids in id_list:  #신고당한횟수\n",
    "        repo[ids] = 0\n",
    "        answer_dict[ids] = 0\n",
    "    for dt in data:\n",
    "        repo[dt[0]] += 1\n",
    "    \n",
    "    for key, value in repo.items(): # k번이상 신고당한사람\n",
    "        if value >= k:\n",
    "            for dt in data:\n",
    "                if dt[0] == key:\n",
    "                    answer_dict[dt[1]] += 1\n",
    "    \n",
    "    return list(answer_dict.values())"
   ]
  }
 ],
 "metadata": {
  "kernelspec": {
   "display_name": "Python 3",
   "language": "python",
   "name": "python3"
  },
  "language_info": {
   "codemirror_mode": {
    "name": "ipython",
    "version": 3
   },
   "file_extension": ".py",
   "mimetype": "text/x-python",
   "name": "python",
   "nbconvert_exporter": "python",
   "pygments_lexer": "ipython3",
   "version": "3.8.5"
  }
 },
 "nbformat": 4,
 "nbformat_minor": 4
}
