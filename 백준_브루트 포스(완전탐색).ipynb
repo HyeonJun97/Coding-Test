{
 "cells": [
  {
   "cell_type": "code",
   "execution_count": 12,
   "metadata": {},
   "outputs": [
    {
     "name": "stdout",
     "output_type": "stream",
     "text": [
      "10 500\n",
      "93 181 245 214 315 36 185 138 216 295\n",
      "497\n"
     ]
    }
   ],
   "source": [
    "# 블랙잭\n",
    "# 3 <= N <= 100 (총 카드수), 10 <= M <= 300,000 (맞출값)\n",
    "\n",
    "n, m = map(int, input().split())\n",
    "card = list(map(int, input().split()))\n",
    "\n",
    "card.sort()\n",
    "max_card = card[0] + card[1] + card[2]\n",
    "\n",
    "for i in range(0, n):\n",
    "    for j in range(i+1, n):\n",
    "        for k in range(j+1, n):\n",
    "            tmp = card[i] + card[j] + card[k]\n",
    "            if tmp >= max_card and tmp <= m:\n",
    "                max_card = tmp\n",
    "            if tmp > m:\n",
    "                break\n",
    "                \n",
    "print(max_card)"
   ]
  },
  {
   "cell_type": "code",
   "execution_count": 18,
   "metadata": {},
   "outputs": [
    {
     "name": "stdout",
     "output_type": "stream",
     "text": [
      "216\n",
      "198\n"
     ]
    }
   ],
   "source": [
    "# 분해합\n",
    "# 1<= N <= 1,000,000\n",
    "\n",
    "n = int(input())\n",
    "\n",
    "for i in range(1, n+1):\n",
    "    tmp = i\n",
    "    nsum = 0\n",
    "    while i:\n",
    "        nsum += (i % 10)\n",
    "        i //= 10\n",
    "        \n",
    "    if (tmp + nsum) == n:\n",
    "        print(tmp)\n",
    "        break\n",
    "    \n",
    "    if tmp == n:\n",
    "        print(0)"
   ]
  },
  {
   "cell_type": "code",
   "execution_count": 28,
   "metadata": {},
   "outputs": [
    {
     "name": "stdout",
     "output_type": "stream",
     "text": [
      "5\n",
      "55 185\n",
      "58 183\n",
      "88 186\n",
      "60 175\n",
      "46 155\n"
     ]
    }
   ],
   "source": [
    "# 덩치\n",
    "# 2<= N <= 50 (사람수), 10<= x, y <= 200 (덩치 - 몸무게, 키)\n",
    "\n",
    "n = int(input())\n",
    "people = []\n",
    "\n",
    "for i in range(n):\n",
    "    tmp = list(map(int, input().split()))\n",
    "    people.append(tmp)\n",
    "\n",
    "people.sort(key = lambda x : (x[0], x[1]), reverse = True)\n",
    "\n",
    "#for idx, data in enumerate(people):\n",
    "#    for i in range(idx, n+1):"
   ]
  },
  {
   "cell_type": "code",
   "execution_count": 29,
   "metadata": {},
   "outputs": [
    {
     "data": {
      "text/plain": [
       "[[88, 186], [60, 175], [58, 183], [55, 185], [46, 155]]"
      ]
     },
     "execution_count": 29,
     "metadata": {},
     "output_type": "execute_result"
    }
   ],
   "source": [
    "people"
   ]
  },
  {
   "cell_type": "code",
   "execution_count": null,
   "metadata": {},
   "outputs": [],
   "source": []
  }
 ],
 "metadata": {
  "kernelspec": {
   "display_name": "Python 3",
   "language": "python",
   "name": "python3"
  },
  "language_info": {
   "codemirror_mode": {
    "name": "ipython",
    "version": 3
   },
   "file_extension": ".py",
   "mimetype": "text/x-python",
   "name": "python",
   "nbconvert_exporter": "python",
   "pygments_lexer": "ipython3",
   "version": "3.8.5"
  }
 },
 "nbformat": 4,
 "nbformat_minor": 4
}
