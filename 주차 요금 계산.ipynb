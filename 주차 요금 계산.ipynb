{
 "cells": [
  {
   "cell_type": "code",
   "execution_count": null,
   "metadata": {},
   "outputs": [],
   "source": [
    "from collections import defaultdict\n",
    "import math\n",
    "\n",
    "def solution(fees, records): # list[기본시간, 요금, 단위시간, 요금], str(시각, 차량번호, 내역)\n",
    "    answer = []\n",
    "    \n",
    "    car_record = defaultdict(list) # 차번호별 기록\n",
    "    car_fee = defaultdict(int)  # 차번호별 사용시간\n",
    "    \n",
    "    for record in records:\n",
    "        tm, car_number, inout = record.split()\n",
    "        car_record[car_number].append([tm, inout])\n",
    "        \n",
    "    for key, value in car_record.items():\n",
    "        state = 'None'\n",
    "        for vl in value:\n",
    "            tt = 0\n",
    "            if vl[1] == 'IN':\n",
    "                state = 'IN'\n",
    "                in_hh, in_mm = vl[0].split(':')\n",
    "                in_hh = int(in_hh)\n",
    "                in_mm = int(in_mm)\n",
    "            else:\n",
    "                state = 'OUT'\n",
    "                out_hh, out_mm = vl[0].split(':')\n",
    "                out_hh = int(out_hh)\n",
    "                out_mm = int(out_mm)\n",
    "                tt += ((out_hh * 60 + out_mm) - (in_hh * 60 + in_mm))\n",
    "                car_fee[key] += tt\n",
    "                \n",
    "        if state == 'IN': # OUT 기록이 없는 경우\n",
    "            out_hh = 23\n",
    "            out_mm = 59\n",
    "            tt += ((out_hh * 60 + out_mm) - (in_hh * 60 + in_mm))\n",
    "            car_fee[key] += tt\n",
    "            \n",
    "    car_fee = sorted(car_fee.items(), key = lambda items : items[0])\n",
    "    print(car_fee)\n",
    "    \n",
    "    for car in car_fee:\n",
    "        if car[1]<= fees[0]:\n",
    "            answer.append(fees[1])l\n",
    "        else:\n",
    "            ff = fees[1] + (math.ceil((car[1] - fees[0]) / fees[2]) * fees[3])\n",
    "            answer.append(ff)\n",
    "            \n",
    "    return answer"
   ]
  }
 ],
 "metadata": {
  "kernelspec": {
   "display_name": "Python 3",
   "language": "python",
   "name": "python3"
  },
  "language_info": {
   "codemirror_mode": {
    "name": "ipython",
    "version": 3
   },
   "file_extension": ".py",
   "mimetype": "text/x-python",
   "name": "python",
   "nbconvert_exporter": "python",
   "pygments_lexer": "ipython3",
   "version": "3.8.5"
  }
 },
 "nbformat": 4,
 "nbformat_minor": 4
}
