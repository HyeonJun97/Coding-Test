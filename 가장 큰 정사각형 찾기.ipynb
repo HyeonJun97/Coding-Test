{
 "cells": [
  {
   "cell_type": "code",
   "execution_count": null,
   "metadata": {},
   "outputs": [],
   "source": [
    "def solution(board):\n",
    "    answer = 0\n",
    "    ROW = len(board)\n",
    "    COL = len(board[0])\n",
    "    \n",
    "    new = [[0] * COL for _ in range(ROW)]   # COL , ROW\n",
    "    \n",
    "    new[0] = board[0]             # 첫 ROW 그대로 유지\n",
    "    for i in range(1, ROW):       # 첫 COL 그대로 유지\n",
    "        new[i][0] = board[i][0]\n",
    "    \n",
    "    for i in range(1, ROW):\n",
    "        for j in range(1, COL):\n",
    "            if board[i][j] == 1:\n",
    "                new[i][j] = min(new[i-1][j-1], new[i][j-1], new[i-1][j]) + 1\n",
    "    \n",
    "    for i in range(ROW):\n",
    "        tmp = max(new[i])\n",
    "        answer = max(answer, tmp)\n",
    "\n",
    "    return answer ** 2"
   ]
  }
 ],
 "metadata": {
  "kernelspec": {
   "display_name": "Python 3",
   "language": "python",
   "name": "python3"
  },
  "language_info": {
   "codemirror_mode": {
    "name": "ipython",
    "version": 3
   },
   "file_extension": ".py",
   "mimetype": "text/x-python",
   "name": "python",
   "nbconvert_exporter": "python",
   "pygments_lexer": "ipython3",
   "version": "3.8.5"
  }
 },
 "nbformat": 4,
 "nbformat_minor": 4
}
