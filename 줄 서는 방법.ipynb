{
 "cells": [
  {
   "cell_type": "code",
   "execution_count": null,
   "metadata": {},
   "outputs": [],
   "source": [
    "from itertools import permutations\n",
    "from math import factorial\n",
    "\n",
    "\n",
    "def solution(n, k):\n",
    "    answer = []\n",
    "    \n",
    "    num = [i for i in range(1, n+1)]\n",
    "    \n",
    "    while (n != 0):\n",
    "        tmp = factorial(n-1)\n",
    "        index = k // tmp\n",
    "        k %= tmp\n",
    "        \n",
    "        if k == 0:\n",
    "            answer.append(num.pop(index-1))\n",
    "        else:\n",
    "            answer.append(num.pop(index))\n",
    "        \n",
    "        n -= 1 \n",
    "    return answer"
   ]
  }
 ],
 "metadata": {
  "kernelspec": {
   "display_name": "Python 3",
   "language": "python",
   "name": "python3"
  },
  "language_info": {
   "codemirror_mode": {
    "name": "ipython",
    "version": 3
   },
   "file_extension": ".py",
   "mimetype": "text/x-python",
   "name": "python",
   "nbconvert_exporter": "python",
   "pygments_lexer": "ipython3",
   "version": "3.8.5"
  }
 },
 "nbformat": 4,
 "nbformat_minor": 4
}
