{
 "cells": [
  {
   "cell_type": "code",
   "execution_count": null,
   "metadata": {},
   "outputs": [],
   "source": [
    "from collections import defaultdict\n",
    "\n",
    "def solution(k, tangerine):\n",
    "    answer = 0\n",
    "    \n",
    "    tangerine.sort()\n",
    "    tang = defaultdict(int)\n",
    "    \n",
    "    for data in tangerine:\n",
    "        tang[data] += 1\n",
    "        \n",
    "    sort_tang = sorted(tang.items(), key = lambda item : item[1], reverse = True)\n",
    "    \n",
    "    for value in sort_tang:\n",
    "        if k > 0:\n",
    "            k -= value[1]\n",
    "            answer += 1\n",
    "    \n",
    "    return answer"
   ]
  }
 ],
 "metadata": {
  "kernelspec": {
   "display_name": "Python 3",
   "language": "python",
   "name": "python3"
  },
  "language_info": {
   "codemirror_mode": {
    "name": "ipython",
    "version": 3
   },
   "file_extension": ".py",
   "mimetype": "text/x-python",
   "name": "python",
   "nbconvert_exporter": "python",
   "pygments_lexer": "ipython3",
   "version": "3.8.5"
  }
 },
 "nbformat": 4,
 "nbformat_minor": 4
}
