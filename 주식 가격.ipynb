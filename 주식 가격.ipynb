{
 "cells": [
  {
   "cell_type": "code",
   "execution_count": null,
   "id": "56077346",
   "metadata": {},
   "outputs": [],
   "source": [
    "from collections import deque\n",
    "\n",
    "def solution(prices):\n",
    "    \n",
    "    answer = []\n",
    "    prices = deque(prices)\n",
    "    \n",
    "    while prices:\n",
    "        sec = 0\n",
    "        pp = prices.popleft()\n",
    "        \n",
    "        for price in prices:\n",
    "            sec += 1\n",
    "            \n",
    "            if price < pp: # 하락하면 break\n",
    "                break\n",
    "                \n",
    "        answer.append(sec)\n",
    "    \n",
    "    return answer"
   ]
  }
 ],
 "metadata": {
  "kernelspec": {
   "display_name": "Python 3 (ipykernel)",
   "language": "python",
   "name": "python3"
  },
  "language_info": {
   "codemirror_mode": {
    "name": "ipython",
    "version": 3
   },
   "file_extension": ".py",
   "mimetype": "text/x-python",
   "name": "python",
   "nbconvert_exporter": "python",
   "pygments_lexer": "ipython3",
   "version": "3.9.13"
  }
 },
 "nbformat": 4,
 "nbformat_minor": 5
}
