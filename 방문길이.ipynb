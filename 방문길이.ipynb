{
 "cells": [
  {
   "cell_type": "code",
   "execution_count": null,
   "metadata": {},
   "outputs": [],
   "source": [
    "def solution(dirs): # dirs <= 500\n",
    "    answer = 0\n",
    "    direct = []\n",
    "    start = [0, 0]\n",
    "    arrive = [0, 0]\n",
    "    \n",
    "    for di in dirs:\n",
    "        if di == 'U':\n",
    "            arrive[1] = start[1] + 1\n",
    "            if arrive[1] > 5:\n",
    "                arrive[1] = 5\n",
    "        elif di == 'D':\n",
    "            arrive[1] = start[1] - 1\n",
    "            if arrive[1] < -5:\n",
    "                arrive[1] = -5\n",
    "        elif di == 'L':\n",
    "            arrive[0] = start[0] - 1\n",
    "            if arrive[0] < -5:\n",
    "                arrive[0] = -5\n",
    "        elif di == 'R':\n",
    "            arrive[0] = start[0] + 1\n",
    "            if arrive[0] > 5:\n",
    "                arrive[0] = 5\n",
    "        \n",
    "        tmp1 = (start + arrive)\n",
    "        tmp2 = (arrive + start)\n",
    "        if tmp1 not in direct and tmp2 not in direct and tmp1 != tmp2:\n",
    "            direct.append(tmp1)\n",
    "            direct.append(tmp2)\n",
    "        \n",
    "        start = arrive.copy()\n",
    "\n",
    "    return len(direct)/2\n",
    "        "
   ]
  }
 ],
 "metadata": {
  "kernelspec": {
   "display_name": "Python 3",
   "language": "python",
   "name": "python3"
  },
  "language_info": {
   "codemirror_mode": {
    "name": "ipython",
    "version": 3
   },
   "file_extension": ".py",
   "mimetype": "text/x-python",
   "name": "python",
   "nbconvert_exporter": "python",
   "pygments_lexer": "ipython3",
   "version": "3.8.5"
  }
 },
 "nbformat": 4,
 "nbformat_minor": 4
}
