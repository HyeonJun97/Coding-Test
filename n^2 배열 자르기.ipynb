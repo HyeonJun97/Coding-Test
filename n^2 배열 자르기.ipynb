{
 "cells": [
  {
   "cell_type": "code",
   "execution_count": null,
   "metadata": {},
   "outputs": [],
   "source": [
    "def solution(n, left, right):\n",
    "    \n",
    "    answer = []\n",
    "    start_mok = left // n\n",
    "    start_na = left % n\n",
    "    \n",
    "    end_mok = right // n   \n",
    "    end_na = right % n  \n",
    "    \n",
    "    \n",
    "    \n",
    "    for i in range(start_mok+1, end_mok+2): #1~3\n",
    "        for j in range(1, n+1):\n",
    "            if j <= i:\n",
    "                answer.append(i)\n",
    "            else:\n",
    "                answer.append(j)\n",
    "    \n",
    "    return answer[start_na:len(answer)-n+end_na+1]"
   ]
  }
 ],
 "metadata": {
  "kernelspec": {
   "display_name": "Python 3",
   "language": "python",
   "name": "python3"
  },
  "language_info": {
   "codemirror_mode": {
    "name": "ipython",
    "version": 3
   },
   "file_extension": ".py",
   "mimetype": "text/x-python",
   "name": "python",
   "nbconvert_exporter": "python",
   "pygments_lexer": "ipython3",
   "version": "3.8.5"
  }
 },
 "nbformat": 4,
 "nbformat_minor": 4
}
