{
 "cells": [
  {
   "cell_type": "code",
   "execution_count": null,
   "id": "a5da0b70",
   "metadata": {},
   "outputs": [],
   "source": [
    "def solution(number): # 3 <= number <= 13, -1,000<= num <= 1,000\n",
    "    answer = 0\n",
    "    rg = len(number)\n",
    "    \n",
    "    for i in range(rg):\n",
    "        for j in range(i+1, rg):\n",
    "            for k in range(j+1, rg):\n",
    "                if number[i] + number[j] + number[k] == 0:\n",
    "                    answer += 1\n",
    "\n",
    "    return answer"
   ]
  }
 ],
 "metadata": {
  "kernelspec": {
   "display_name": "Python 3 (ipykernel)",
   "language": "python",
   "name": "python3"
  },
  "language_info": {
   "codemirror_mode": {
    "name": "ipython",
    "version": 3
   },
   "file_extension": ".py",
   "mimetype": "text/x-python",
   "name": "python",
   "nbconvert_exporter": "python",
   "pygments_lexer": "ipython3",
   "version": "3.9.13"
  }
 },
 "nbformat": 4,
 "nbformat_minor": 5
}
