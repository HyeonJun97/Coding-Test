{
 "cells": [
  {
   "cell_type": "code",
   "execution_count": null,
   "metadata": {},
   "outputs": [],
   "source": [
    "def solution(n, words):\n",
    "    answer = [0, 0]\n",
    "    count = 0\n",
    "    tmp = words[0][0]\n",
    "    record = []\n",
    "    \n",
    "    for word in words:\n",
    "        if tmp == word[0]:\n",
    "            if word in record:\n",
    "                count += 1\n",
    "                break\n",
    "            count += 1\n",
    "            tmp = word[-1]\n",
    "        \n",
    "        else:\n",
    "            count += 1            \n",
    "            break\n",
    "        \n",
    "        record.append(word)\n",
    "        \n",
    "    if words == record:\n",
    "        return answer\n",
    "    \n",
    "    else:\n",
    "        if count % n == 0:\n",
    "            answer[0] = n\n",
    "        else:\n",
    "            answer[0] = count % n\n",
    "    \n",
    "        if count % n == 0:\n",
    "            answer[1] = count // n\n",
    "        else:\n",
    "            answer[1] = (count // n) + 1\n",
    "    \n",
    "    return answer"
   ]
  }
 ],
 "metadata": {
  "kernelspec": {
   "display_name": "Python 3",
   "language": "python",
   "name": "python3"
  },
  "language_info": {
   "codemirror_mode": {
    "name": "ipython",
    "version": 3
   },
   "file_extension": ".py",
   "mimetype": "text/x-python",
   "name": "python",
   "nbconvert_exporter": "python",
   "pygments_lexer": "ipython3",
   "version": "3.8.5"
  }
 },
 "nbformat": 4,
 "nbformat_minor": 4
}
