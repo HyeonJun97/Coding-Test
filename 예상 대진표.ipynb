{
 "cells": [
  {
   "cell_type": "code",
   "execution_count": null,
   "metadata": {},
   "outputs": [],
   "source": [
    "def solution(n,a,b):\n",
    "    answer = 0\n",
    "    a, b = min(a,b), max(a,b)\n",
    "\n",
    "    while True:\n",
    "        answer += 1\n",
    "        \n",
    "        a_mok = a // 2\n",
    "        a_na = a % 2\n",
    "        b_mok = b // 2\n",
    "        b_na = b % 2\n",
    "        \n",
    "        if (a_na == 1) and (b == (a+1)):\n",
    "            return answer\n",
    "        \n",
    "        if a_na == 1:\n",
    "            a = (a_mok + a_na)\n",
    "        else:\n",
    "            a = a_mok\n",
    "        \n",
    "        if b_na == 1:\n",
    "            b = (b_mok + b_na)\n",
    "        else:\n",
    "            b = b_mok\n"
   ]
  }
 ],
 "metadata": {
  "kernelspec": {
   "display_name": "Python 3",
   "language": "python",
   "name": "python3"
  },
  "language_info": {
   "codemirror_mode": {
    "name": "ipython",
    "version": 3
   },
   "file_extension": ".py",
   "mimetype": "text/x-python",
   "name": "python",
   "nbconvert_exporter": "python",
   "pygments_lexer": "ipython3",
   "version": "3.8.5"
  }
 },
 "nbformat": 4,
 "nbformat_minor": 4
}
