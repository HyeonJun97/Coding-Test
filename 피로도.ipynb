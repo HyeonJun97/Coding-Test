{
 "cells": [
  {
   "cell_type": "code",
   "execution_count": null,
   "metadata": {},
   "outputs": [],
   "source": [
    "from itertools import permutations\n",
    "\n",
    "def solution(k, dungeons): # k<=5000, dungeons<=8\n",
    "    answer = 0\n",
    "    \n",
    "    cases = list(permutations(dungeons, len(dungeons)))\n",
    "    \n",
    "    for case in cases:\n",
    "        tmp = 0\n",
    "        piro = k\n",
    "        for dungeon in case:\n",
    "            if dungeon[0] <= piro:\n",
    "                piro -= dungeon[1]\n",
    "                tmp += 1\n",
    "            else:\n",
    "                break\n",
    "                \n",
    "        answer = max(answer, tmp)\n",
    "    \n",
    "    return answer"
   ]
  }
 ],
 "metadata": {
  "kernelspec": {
   "display_name": "Python 3",
   "language": "python",
   "name": "python3"
  },
  "language_info": {
   "codemirror_mode": {
    "name": "ipython",
    "version": 3
   },
   "file_extension": ".py",
   "mimetype": "text/x-python",
   "name": "python",
   "nbconvert_exporter": "python",
   "pygments_lexer": "ipython3",
   "version": "3.8.5"
  }
 },
 "nbformat": 4,
 "nbformat_minor": 4
}
