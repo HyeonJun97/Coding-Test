{
 "cells": [
  {
   "cell_type": "code",
   "execution_count": null,
   "metadata": {},
   "outputs": [],
   "source": [
    "from math import factorial\n",
    "\n",
    "def solution(n):\n",
    "    answer = 0\n",
    "    num_1 = n\n",
    "    num_2 = 0\n",
    "    \n",
    "    while num_1 >= 0:\n",
    "        case = factorial(num_1 + num_2) // (factorial(num_2) * factorial(num_1))\n",
    "        \n",
    "        answer += case\n",
    "        \n",
    "        num_2 += 1\n",
    "        num_1 = (n - num_2 * 2)\n",
    "        \n",
    "    return answer%1234567"
   ]
  }
 ],
 "metadata": {
  "kernelspec": {
   "display_name": "Python 3",
   "language": "python",
   "name": "python3"
  },
  "language_info": {
   "codemirror_mode": {
    "name": "ipython",
    "version": 3
   },
   "file_extension": ".py",
   "mimetype": "text/x-python",
   "name": "python",
   "nbconvert_exporter": "python",
   "pygments_lexer": "ipython3",
   "version": "3.8.5"
  }
 },
 "nbformat": 4,
 "nbformat_minor": 4
}
