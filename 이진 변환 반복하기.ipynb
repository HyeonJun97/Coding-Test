{
 "cells": [
  {
   "cell_type": "code",
   "execution_count": null,
   "metadata": {},
   "outputs": [],
   "source": [
    "def solution(s):\n",
    "    answer = []\n",
    "    zero = 0\n",
    "    change = 0\n",
    "    \n",
    "    while True:\n",
    "        tmp = ''\n",
    "        for num in s:\n",
    "            if num == '0':\n",
    "                zero += 1\n",
    "            else:\n",
    "                tmp += num\n",
    "        \n",
    "        s = len(tmp)\n",
    "        new = ''\n",
    "        \n",
    "        while s != 0:\n",
    "            na = s % 2\n",
    "            s = s // 2\n",
    "            new = str(na) + new \n",
    "        \n",
    "        s = new\n",
    "        change += 1\n",
    "        \n",
    "        if s == '1':\n",
    "            break\n",
    "    \n",
    "    answer.append(change)\n",
    "    answer.append(zero)\n",
    "    \n",
    "    return answer"
   ]
  }
 ],
 "metadata": {
  "kernelspec": {
   "display_name": "Python 3",
   "language": "python",
   "name": "python3"
  },
  "language_info": {
   "codemirror_mode": {
    "name": "ipython",
    "version": 3
   },
   "file_extension": ".py",
   "mimetype": "text/x-python",
   "name": "python",
   "nbconvert_exporter": "python",
   "pygments_lexer": "ipython3",
   "version": "3.8.5"
  }
 },
 "nbformat": 4,
 "nbformat_minor": 4
}
