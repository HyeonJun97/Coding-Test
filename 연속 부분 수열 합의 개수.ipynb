{
 "cells": [
  {
   "cell_type": "code",
   "execution_count": null,
   "id": "7b8b295f",
   "metadata": {},
   "outputs": [],
   "source": [
    "def solution(elements): # 3 <= 길이 <= 1,000, 1<= 크기 <= 1,000\n",
    "    answer = []\n",
    "    element_loop = elements * 2\n",
    "    \n",
    "    for i in range(len(elements)):\n",
    "        for j in range(i+1, len(elements)+i+1):\n",
    "            tmp = element_loop[i:j]\n",
    "            answer.append(sum(tmp))\n",
    "            \n",
    "    return len(set(answer))"
   ]
  }
 ],
 "metadata": {
  "kernelspec": {
   "display_name": "Python 3 (ipykernel)",
   "language": "python",
   "name": "python3"
  },
  "language_info": {
   "codemirror_mode": {
    "name": "ipython",
    "version": 3
   },
   "file_extension": ".py",
   "mimetype": "text/x-python",
   "name": "python",
   "nbconvert_exporter": "python",
   "pygments_lexer": "ipython3",
   "version": "3.9.13"
  }
 },
 "nbformat": 4,
 "nbformat_minor": 5
}
