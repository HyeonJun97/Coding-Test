{
 "cells": [
  {
   "cell_type": "code",
   "execution_count": null,
   "metadata": {},
   "outputs": [],
   "source": [
    "def solution(s):\n",
    "    answer = True\n",
    "    \n",
    "    s = list(s)\n",
    "    \n",
    "    if s[0] == ')':\n",
    "        return False\n",
    "    count = 0\n",
    "    \n",
    "    for i in range(len(s)):\n",
    "        if s[i] == '(':\n",
    "            count += 1\n",
    "            \n",
    "        elif s[i] == ')':\n",
    "            count -= 1\n",
    "            \n",
    "        if count == -1:\n",
    "            return False\n",
    "    \n",
    "    if count == 0:\n",
    "        return True\n",
    "    else:\n",
    "        return False"
   ]
  }
 ],
 "metadata": {
  "kernelspec": {
   "display_name": "Python 3",
   "language": "python",
   "name": "python3"
  },
  "language_info": {
   "codemirror_mode": {
    "name": "ipython",
    "version": 3
   },
   "file_extension": ".py",
   "mimetype": "text/x-python",
   "name": "python",
   "nbconvert_exporter": "python",
   "pygments_lexer": "ipython3",
   "version": "3.8.5"
  }
 },
 "nbformat": 4,
 "nbformat_minor": 4
}
