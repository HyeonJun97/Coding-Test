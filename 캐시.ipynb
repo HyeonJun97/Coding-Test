{
 "cells": [
  {
   "cell_type": "code",
   "execution_count": null,
   "id": "5d1e89a4",
   "metadata": {},
   "outputs": [],
   "source": [
    "def solution(cacheSize, cities): # 0<= cash <= 30, 0<= city <= 100,000\n",
    "    answer = 0\n",
    "    cache = []\n",
    "    \n",
    "    if cacheSize == 0: # cache가 없는 경우\n",
    "        return 5 * len(cities)\n",
    "    \n",
    "    for city in cities: # LRU 알고리즘\n",
    "        if not city.upper() in cache: # 대소문자 구분 x\n",
    "            if len(cache) < cacheSize:\n",
    "                cache.append(city.upper())\n",
    "                answer += 5\n",
    "            else:\n",
    "                cache.pop(0)\n",
    "                cache.append(city.upper())\n",
    "                answer += 5\n",
    "        \n",
    "        else:\n",
    "            cache.pop(cache.index(city.upper()))\n",
    "            cache.append(city.upper())\n",
    "            answer += 1\n",
    "    \n",
    "    return answer"
   ]
  }
 ],
 "metadata": {
  "kernelspec": {
   "display_name": "Python 3 (ipykernel)",
   "language": "python",
   "name": "python3"
  },
  "language_info": {
   "codemirror_mode": {
    "name": "ipython",
    "version": 3
   },
   "file_extension": ".py",
   "mimetype": "text/x-python",
   "name": "python",
   "nbconvert_exporter": "python",
   "pygments_lexer": "ipython3",
   "version": "3.9.13"
  }
 },
 "nbformat": 4,
 "nbformat_minor": 5
}
