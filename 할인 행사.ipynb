{
 "cells": [
  {
   "cell_type": "code",
   "execution_count": 1,
   "id": "c2b4fc7e",
   "metadata": {},
   "outputs": [],
   "source": [
    "from collections import defaultdict\n",
    "\n",
    "def solution(want, number, discount): # 1<= want, num <= 10, 10<= discount <= 100,000\n",
    "    answer = 0\n",
    "    product = dict()\n",
    "    \n",
    "    for wt, num in zip(want, number):\n",
    "        product[wt] = num\n",
    "\n",
    "    for i in range(len(discount) - 9):\n",
    "        tmp = discount[i:i+10]\n",
    "        count = defaultdict(int)\n",
    "        \n",
    "        for tp in tmp:\n",
    "            count[tp] += 1\n",
    "            \n",
    "        if product == count:\n",
    "            answer += 1\n",
    "            \n",
    "    return answer"
   ]
  }
 ],
 "metadata": {
  "kernelspec": {
   "display_name": "Python 3 (ipykernel)",
   "language": "python",
   "name": "python3"
  },
  "language_info": {
   "codemirror_mode": {
    "name": "ipython",
    "version": 3
   },
   "file_extension": ".py",
   "mimetype": "text/x-python",
   "name": "python",
   "nbconvert_exporter": "python",
   "pygments_lexer": "ipython3",
   "version": "3.9.13"
  }
 },
 "nbformat": 4,
 "nbformat_minor": 5
}
