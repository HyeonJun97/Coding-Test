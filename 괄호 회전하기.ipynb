{
 "cells": [
  {
   "cell_type": "code",
   "execution_count": null,
   "id": "a5ab1978",
   "metadata": {},
   "outputs": [],
   "source": [
    "def checking(s):\n",
    "    stack = []\n",
    "    for i in s:\n",
    "        if len(stack) == 0:\n",
    "            stack.append(i)\n",
    "        else:\n",
    "            if i == '}' and stack[-1] == '{':\n",
    "                stack.pop()\n",
    "            elif i == ')' and stack[-1] == '(':\n",
    "                stack.pop()\n",
    "            elif i == ']' and stack[-1] == '[':\n",
    "                stack.pop()\n",
    "            else:\n",
    "                stack.append(i)\n",
    "    if len(stack) == 0:\n",
    "        return 1\n",
    "    else:\n",
    "        return 0\n",
    "\n",
    "def solution(s): # 1 <= s <= 1,000\n",
    "    answer = 0\n",
    "    s = list(s)\n",
    "    ln = len(s)\n",
    "    \n",
    "    if ln % 2 == 1: # 길이 홀수이면 짝 안맞으니 0\n",
    "        return 0\n",
    "    \n",
    "    for i in range(ln): # Checking\n",
    "        if checking(s) == 1:\n",
    "            answer += 1\n",
    "        tmp = s[0]\n",
    "        del s[0]\n",
    "        s.append(tmp)\n",
    "        \n",
    "    return answer"
   ]
  }
 ],
 "metadata": {
  "kernelspec": {
   "display_name": "Python 3 (ipykernel)",
   "language": "python",
   "name": "python3"
  },
  "language_info": {
   "codemirror_mode": {
    "name": "ipython",
    "version": 3
   },
   "file_extension": ".py",
   "mimetype": "text/x-python",
   "name": "python",
   "nbconvert_exporter": "python",
   "pygments_lexer": "ipython3",
   "version": "3.9.13"
  }
 },
 "nbformat": 4,
 "nbformat_minor": 5
}
